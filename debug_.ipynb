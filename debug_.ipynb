{
 "cells": [
  {
   "cell_type": "code",
   "execution_count": 3,
   "metadata": {},
   "outputs": [
    {
     "data": {
      "text/plain": [
       "tensor([[10, 10, 10, 10, 10, 10, 10, 10],\n",
       "        [10, 10, 10, 10, 10, 10, 10, 10]])"
      ]
     },
     "execution_count": 3,
     "metadata": {},
     "output_type": "execute_result"
    }
   ],
   "source": [
    "import torch\n",
    "\n",
    "#现在有batch size 2，每张图片8个query\n",
    "#比如数据集有9种类别 现在+1 no obj\n",
    "# 类别从1开始   1 2 3 4 5 6 7 8 9\n",
    "num_classes = 10\n",
    "target_classes = torch.full([2,8], num_classes, dtype=torch.int64)\n",
    "\n",
    "target_classes"
   ]
  },
  {
   "cell_type": "code",
   "execution_count": 4,
   "metadata": {},
   "outputs": [
    {
     "data": {
      "text/plain": [
       "torch.Size([2, 8])"
      ]
     },
     "execution_count": 4,
     "metadata": {},
     "output_type": "execute_result"
    }
   ],
   "source": [
    "target_classes.size()"
   ]
  },
  {
   "cell_type": "code",
   "execution_count": 6,
   "metadata": {},
   "outputs": [
    {
     "data": {
      "text/plain": [
       "tensor([[10,  1, 10, 10, 10, 10,  7, 10],\n",
       "        [10, 10, 10,  6, 10, 10, 10, 10]])"
      ]
     },
     "execution_count": 6,
     "metadata": {},
     "output_type": "execute_result"
    }
   ],
   "source": [
    "target_classes[0][1] = 1\n",
    "target_classes[0][6] = 7\n",
    "target_classes[1][3] = 6\n",
    "target_classes"
   ]
  },
  {
   "cell_type": "code",
   "execution_count": 8,
   "metadata": {},
   "outputs": [
    {
     "data": {
      "text/plain": [
       "tensor([[[0, 0, 0, 0, 0, 0, 0, 0, 0, 0, 0],\n",
       "         [0, 0, 0, 0, 0, 0, 0, 0, 0, 0, 0],\n",
       "         [0, 0, 0, 0, 0, 0, 0, 0, 0, 0, 0],\n",
       "         [0, 0, 0, 0, 0, 0, 0, 0, 0, 0, 0],\n",
       "         [0, 0, 0, 0, 0, 0, 0, 0, 0, 0, 0],\n",
       "         [0, 0, 0, 0, 0, 0, 0, 0, 0, 0, 0],\n",
       "         [0, 0, 0, 0, 0, 0, 0, 0, 0, 0, 0],\n",
       "         [0, 0, 0, 0, 0, 0, 0, 0, 0, 0, 0]],\n",
       "\n",
       "        [[0, 0, 0, 0, 0, 0, 0, 0, 0, 0, 0],\n",
       "         [0, 0, 0, 0, 0, 0, 0, 0, 0, 0, 0],\n",
       "         [0, 0, 0, 0, 0, 0, 0, 0, 0, 0, 0],\n",
       "         [0, 0, 0, 0, 0, 0, 0, 0, 0, 0, 0],\n",
       "         [0, 0, 0, 0, 0, 0, 0, 0, 0, 0, 0],\n",
       "         [0, 0, 0, 0, 0, 0, 0, 0, 0, 0, 0],\n",
       "         [0, 0, 0, 0, 0, 0, 0, 0, 0, 0, 0],\n",
       "         [0, 0, 0, 0, 0, 0, 0, 0, 0, 0, 0]]])"
      ]
     },
     "execution_count": 8,
     "metadata": {},
     "output_type": "execute_result"
    }
   ],
   "source": [
    "target_classes_onehot = torch.zeros([2, 8, num_classes+1], dtype=torch.int64)\n",
    "target_classes_onehot"
   ]
  },
  {
   "cell_type": "code",
   "execution_count": 9,
   "metadata": {},
   "outputs": [
    {
     "data": {
      "text/plain": [
       "tensor([[[0, 0, 0, 0, 0, 0, 0, 0, 0, 0, 1],\n",
       "         [0, 1, 0, 0, 0, 0, 0, 0, 0, 0, 0],\n",
       "         [0, 0, 0, 0, 0, 0, 0, 0, 0, 0, 1],\n",
       "         [0, 0, 0, 0, 0, 0, 0, 0, 0, 0, 1],\n",
       "         [0, 0, 0, 0, 0, 0, 0, 0, 0, 0, 1],\n",
       "         [0, 0, 0, 0, 0, 0, 0, 0, 0, 0, 1],\n",
       "         [0, 0, 0, 0, 0, 0, 0, 1, 0, 0, 0],\n",
       "         [0, 0, 0, 0, 0, 0, 0, 0, 0, 0, 1]],\n",
       "\n",
       "        [[0, 0, 0, 0, 0, 0, 0, 0, 0, 0, 1],\n",
       "         [0, 0, 0, 0, 0, 0, 0, 0, 0, 0, 1],\n",
       "         [0, 0, 0, 0, 0, 0, 0, 0, 0, 0, 1],\n",
       "         [0, 0, 0, 0, 0, 0, 1, 0, 0, 0, 0],\n",
       "         [0, 0, 0, 0, 0, 0, 0, 0, 0, 0, 1],\n",
       "         [0, 0, 0, 0, 0, 0, 0, 0, 0, 0, 1],\n",
       "         [0, 0, 0, 0, 0, 0, 0, 0, 0, 0, 1],\n",
       "         [0, 0, 0, 0, 0, 0, 0, 0, 0, 0, 1]]])"
      ]
     },
     "execution_count": 9,
     "metadata": {},
     "output_type": "execute_result"
    }
   ],
   "source": [
    "target_classes_onehot.scatter_(2, target_classes.unsqueeze(-1), 1)\n",
    "target_classes_onehot"
   ]
  },
  {
   "cell_type": "code",
   "execution_count": 10,
   "metadata": {},
   "outputs": [
    {
     "data": {
      "text/plain": [
       "tensor([[[0, 0, 0, 0, 0, 0, 0, 0, 0, 0],\n",
       "         [0, 1, 0, 0, 0, 0, 0, 0, 0, 0],\n",
       "         [0, 0, 0, 0, 0, 0, 0, 0, 0, 0],\n",
       "         [0, 0, 0, 0, 0, 0, 0, 0, 0, 0],\n",
       "         [0, 0, 0, 0, 0, 0, 0, 0, 0, 0],\n",
       "         [0, 0, 0, 0, 0, 0, 0, 0, 0, 0],\n",
       "         [0, 0, 0, 0, 0, 0, 0, 1, 0, 0],\n",
       "         [0, 0, 0, 0, 0, 0, 0, 0, 0, 0]],\n",
       "\n",
       "        [[0, 0, 0, 0, 0, 0, 0, 0, 0, 0],\n",
       "         [0, 0, 0, 0, 0, 0, 0, 0, 0, 0],\n",
       "         [0, 0, 0, 0, 0, 0, 0, 0, 0, 0],\n",
       "         [0, 0, 0, 0, 0, 0, 1, 0, 0, 0],\n",
       "         [0, 0, 0, 0, 0, 0, 0, 0, 0, 0],\n",
       "         [0, 0, 0, 0, 0, 0, 0, 0, 0, 0],\n",
       "         [0, 0, 0, 0, 0, 0, 0, 0, 0, 0],\n",
       "         [0, 0, 0, 0, 0, 0, 0, 0, 0, 0]]])"
      ]
     },
     "execution_count": 10,
     "metadata": {},
     "output_type": "execute_result"
    }
   ],
   "source": [
    "target_classes_onehot = target_classes_onehot[:,:,:-1]\n",
    "target_classes_onehot"
   ]
  },
  {
   "cell_type": "code",
   "execution_count": 3,
   "metadata": {},
   "outputs": [
    {
     "name": "stdout",
     "output_type": "stream",
     "text": [
      "test里面总共有152226关系\n",
      "主语宾语class一样的关系0\n"
     ]
    }
   ],
   "source": [
    "#\n",
    "import json\n",
    "from collections import defaultdict\n",
    "# 路径到 rel.json 和 val.json 文件\n",
    "path_to_rel_json = \"/home/cmh/cmh/projects/detrs/RelTR/data/vg/rel.json\"\n",
    "path_to_val_json = \"/home/cmh/cmh/projects/detrs/RelTR/data/vg/test.json\"\n",
    "\n",
    "# 加载 rel.json 文件\n",
    "with open(path_to_rel_json) as f:\n",
    "    rel_data = json.load(f)\n",
    "\n",
    "# 加载 val.json 文件\n",
    "with open(path_to_val_json) as f:\n",
    "    val_data = json.load(f)\n",
    "\n",
    "# 提取 val 中的图像和对象信息\n",
    "# val_images = {img[\"id\"]: img for img in val_data[\"images\"]}\n",
    "# val_annotations = {}\n",
    "# for ann in val_data[\"annotations\"]:\n",
    "#     image_id = ann[\"image_id\"]\n",
    "#     if image_id not in val_annotations.keys():\n",
    "#         val_annotations[image_id] = []\n",
    "#     val_annotations[image_id].append(ann)\n",
    "\n",
    "val_annotations = defaultdict(list)\n",
    "# for ann in val_data[\"annotations\"]:\n",
    "#     image_id = ann[\"image_id\"]\n",
    "#     if image_id not in val_annotations:\n",
    "#         val_annotations[image_id] = []\n",
    "#     val_annotations[image_id].append(ann)\n",
    "\n",
    "for ann in val_data[\"annotations\"]:\n",
    "    val_annotations[ann[\"image_id\"]].append(ann)\n",
    "\n",
    "val_annotations[1]\n",
    "# 检查 rel.json 中的三元组是否有主语和宾语类别相同的情况\n",
    "same_category_pairs = []\n",
    "rel_len_sum = 0\n",
    "for img_id, triplets in rel_data[\"test\"].items():\n",
    "    # print(f'img_id {img_id}')\n",
    "    # print(len(val_annotations[int(img_id)]))\n",
    "\n",
    "    temp_len = len(triplets)\n",
    "    rel_len_sum += temp_len  \n",
    "    for triplet in triplets:\n",
    "        subj_id, obj_id, _ = triplet\n",
    "        subj_category = val_annotations[int(img_id)][subj_id]\n",
    "        obj_category = val_annotations[int(img_id)][obj_id]\n",
    "\n",
    "        if subj_category == obj_category:\n",
    "            same_category_pairs.append((img_id, subj_id, obj_id, subj_category))\n",
    "\n",
    "# 输出结果\n",
    "num_same_category_pairs = len(same_category_pairs)\n",
    "# same_category_pairs[:5], num_same_category_pairs  # 显示前5个结果和总数\n",
    "num_same_category_pairs\n",
    "\n",
    "print(f'test里面总共有{rel_len_sum}关系')\n",
    "print(f'主语宾语class一样的关系{num_same_category_pairs}')"
   ]
  },
  {
   "cell_type": "code",
   "execution_count": null,
   "metadata": {},
   "outputs": [],
   "source": []
  }
 ],
 "metadata": {
  "kernelspec": {
   "display_name": "exia-detr",
   "language": "python",
   "name": "python3"
  },
  "language_info": {
   "codemirror_mode": {
    "name": "ipython",
    "version": 3
   },
   "file_extension": ".py",
   "mimetype": "text/x-python",
   "name": "python",
   "nbconvert_exporter": "python",
   "pygments_lexer": "ipython3",
   "version": "3.11.5"
  }
 },
 "nbformat": 4,
 "nbformat_minor": 2
}
